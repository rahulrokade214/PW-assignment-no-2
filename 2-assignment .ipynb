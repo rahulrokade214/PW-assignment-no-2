{
 "cells": [
  {
   "cell_type": "markdown",
   "id": "b4bc37ac-c2b6-4d9c-aa5d-f436b66598b7",
   "metadata": {},
   "source": [
    "##                    Assignment 2"
   ]
  },
  {
   "cell_type": "markdown",
   "id": "5d4eecf9-3093-4f59-9cf8-3bfd9bf19df0",
   "metadata": {},
   "source": [
    "### Q1. How do you comment code in Python? What are the different types of comments?"
   ]
  },
  {
   "cell_type": "code",
   "execution_count": 4,
   "id": "16f5411d-b5f6-4aa6-80a0-988ce645018e",
   "metadata": {},
   "outputs": [],
   "source": [
    "# a=1\n",
    "# b=2\n",
    "# c=a+b\n",
    "# print(c)"
   ]
  },
  {
   "cell_type": "code",
   "execution_count": 5,
   "id": "3d355ad1-d996-4f52-86ea-7e82e7e18fe8",
   "metadata": {},
   "outputs": [],
   "source": [
    "#Sigle line comment\n",
    "\"\"\" This is multiline comment \"\"\""
   ]
  },
  {
   "cell_type": "markdown",
   "id": "597e25cc-caa0-46c2-b0fd-24709b26f2d6",
   "metadata": {},
   "source": [
    "### Q2. What are variables in Python? How do you declare and assign values to variables?"
   ]
  },
  {
   "cell_type": "code",
   "execution_count": 7,
   "id": "e728f9be-fe48-4dfe-a93a-6dad62897fd5",
   "metadata": {},
   "outputs": [],
   "source": [
    "a = 10 #int\n",
    "b = 10.5 #float\n",
    "c = 10+5j #complex\n",
    "e = \"string\"\n",
    "f = [1,2,3,4,\"sudh\",10.2,10+4j,(3,2,3)]"
   ]
  },
  {
   "cell_type": "markdown",
   "id": "9afcc0bd-35e3-489a-850b-cd0c62f1d2d1",
   "metadata": {},
   "source": [
    "### Q3. How do you convert one data type to another in Python?"
   ]
  },
  {
   "cell_type": "code",
   "execution_count": 23,
   "id": "780a9048-0315-46f3-b62d-3f1f031dccb3",
   "metadata": {},
   "outputs": [],
   "source": [
    "a=10+5j"
   ]
  },
  {
   "cell_type": "code",
   "execution_count": 24,
   "id": "7631ea5a-bf32-4ff8-84d8-6a640ee28d3c",
   "metadata": {},
   "outputs": [
    {
     "data": {
      "text/plain": [
       "complex"
      ]
     },
     "execution_count": 24,
     "metadata": {},
     "output_type": "execute_result"
    }
   ],
   "source": [
    "type(a)"
   ]
  },
  {
   "cell_type": "code",
   "execution_count": 25,
   "id": "4ceb0d47-7d51-492d-89aa-2e30fcceaab1",
   "metadata": {},
   "outputs": [
    {
     "data": {
      "text/plain": [
       "5.0"
      ]
     },
     "execution_count": 25,
     "metadata": {},
     "output_type": "execute_result"
    }
   ],
   "source": [
    "a.imag"
   ]
  },
  {
   "cell_type": "markdown",
   "id": "941fd722-5a16-46f9-bf89-b0d9e23cfa9a",
   "metadata": {},
   "source": [
    "### Q4. How do you write and execute a Python script from the command line?"
   ]
  },
  {
   "cell_type": "code",
   "execution_count": 28,
   "id": "fac8fdf1-8f44-44be-84c8-b44894b9ee14",
   "metadata": {},
   "outputs": [],
   "source": [
    "#.ipynd"
   ]
  },
  {
   "cell_type": "markdown",
   "id": "5f40939a-754e-475d-81be-38375dfed66f",
   "metadata": {},
   "source": [
    "### Q5. Given a list my_list = [1, 2, 3, 4, 5], write the code to slice the list and obtain the sub-list [2, 3]."
   ]
  },
  {
   "cell_type": "code",
   "execution_count": 52,
   "id": "d87b7c00-cbe9-49e0-9806-fb0928cdb035",
   "metadata": {},
   "outputs": [],
   "source": [
    "my_list = [1,2,3,4,5]"
   ]
  },
  {
   "cell_type": "code",
   "execution_count": 56,
   "id": "be183ec1-7ac7-4cdc-91dc-c666eaf2dce5",
   "metadata": {},
   "outputs": [],
   "source": [
    "my_list[1]=[2,3]"
   ]
  },
  {
   "cell_type": "code",
   "execution_count": 57,
   "id": "f08b14fa-a4a2-48d0-bc9d-a84f74a50b4a",
   "metadata": {},
   "outputs": [
    {
     "data": {
      "text/plain": [
       "[1, [2, 3], 3, 4, 5]"
      ]
     },
     "execution_count": 57,
     "metadata": {},
     "output_type": "execute_result"
    }
   ],
   "source": [
    "my_list"
   ]
  },
  {
   "cell_type": "markdown",
   "id": "1cc670f2-e2d4-4033-939f-fc0f3f4facc2",
   "metadata": {},
   "source": [
    "### Q6.What is a complex number in mathematics, and how is it represented in Python?"
   ]
  },
  {
   "cell_type": "code",
   "execution_count": null,
   "id": "9db37591-179b-4c48-9449-6b5d5bf12075",
   "metadata": {},
   "outputs": [],
   "source": [
    "#Complex no is \"10+5i\" and in python\n",
    "a=10+5j"
   ]
  },
  {
   "cell_type": "markdown",
   "id": "a0faa0fb-f232-492e-838a-19bac6823cee",
   "metadata": {},
   "source": [
    "### Q7.What is the correct way to declare a variable named age and assign the value 25 to it?"
   ]
  },
  {
   "cell_type": "code",
   "execution_count": 59,
   "id": "5439dd0d-1eff-40c4-bef7-3cd2c4118ec4",
   "metadata": {},
   "outputs": [],
   "source": [
    "age=25"
   ]
  },
  {
   "cell_type": "markdown",
   "id": "cabef22c-409d-499a-b5e8-48dea7e0e1d6",
   "metadata": {},
   "source": [
    "### Q8. Declare a variable named price and assign the value 9.99 to it. What data type does this variable belong to?"
   ]
  },
  {
   "cell_type": "code",
   "execution_count": 4,
   "id": "08d8bad4-5231-4131-8dbc-d14bc06c2f79",
   "metadata": {},
   "outputs": [],
   "source": [
    "named_price = 9.99"
   ]
  },
  {
   "cell_type": "code",
   "execution_count": 5,
   "id": "f60759d4-e646-4b1f-a4d9-6936908372ba",
   "metadata": {},
   "outputs": [
    {
     "name": "stdout",
     "output_type": "stream",
     "text": [
      "<class 'float'>\n"
     ]
    }
   ],
   "source": [
    "print(type(named_price))"
   ]
  },
  {
   "cell_type": "code",
   "execution_count": null,
   "id": "0ced668a-af8f-4fda-bc5c-9f24723d410f",
   "metadata": {},
   "outputs": [],
   "source": []
  },
  {
   "cell_type": "code",
   "execution_count": null,
   "id": "51c3638e-37e7-4f50-9a7c-66cc545a5d86",
   "metadata": {},
   "outputs": [],
   "source": []
  }
 ],
 "metadata": {
  "kernelspec": {
   "display_name": "Python 3 (ipykernel)",
   "language": "python",
   "name": "python3"
  },
  "language_info": {
   "codemirror_mode": {
    "name": "ipython",
    "version": 3
   },
   "file_extension": ".py",
   "mimetype": "text/x-python",
   "name": "python",
   "nbconvert_exporter": "python",
   "pygments_lexer": "ipython3",
   "version": "3.10.8"
  }
 },
 "nbformat": 4,
 "nbformat_minor": 5
}
